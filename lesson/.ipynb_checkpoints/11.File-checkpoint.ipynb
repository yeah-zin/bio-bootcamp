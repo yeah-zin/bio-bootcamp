{
 "cells": [
  {
   "cell_type": "code",
   "execution_count": 4,
   "id": "ecb8c805-4a3e-4587-89f1-bedc8165c2d0",
   "metadata": {
    "tags": []
   },
   "outputs": [],
   "source": [
    "import glob"
   ]
  },
  {
   "cell_type": "code",
   "execution_count": 1,
   "id": "612bcdfd-bf5f-46b5-8f48-5fd67c083a04",
   "metadata": {
    "tags": []
   },
   "outputs": [],
   "source": [
    "with open('../data/1OLG.pdb', 'r') as f, open('atoms_chain_A.txt', 'w') as f_out:\n",
    "    # Put the ATOM lines from chain A in new file\n",
    "    for line in f:\n",
    "        if len(line) > 21 and line[:4] == 'ATOM' and line[21] == 'A':\n",
    "            f_out.write(line)"
   ]
  },
  {
   "cell_type": "code",
   "execution_count": 2,
   "id": "93d8583d-e7ab-4345-ad5c-3535f64d2a02",
   "metadata": {
    "tags": []
   },
   "outputs": [
    {
     "name": "stdout",
     "output_type": "stream",
     "text": [
      "ATOM      1  N   LYS A 319      18.634  25.437  10.685  1.00  4.81           N  \n",
      "ATOM      2  CA  LYS A 319      17.984  25.295   9.354  1.00  4.32           C  \n",
      "ATOM      3  C   LYS A 319      18.160  23.876   8.818  1.00  3.74           C  \n",
      "ATOM      4  O   LYS A 319      19.259  23.441   8.537  1.00  3.67           O  \n",
      "ATOM      5  CB  LYS A 319      18.609  26.282   8.371  1.00  4.67           C  \n",
      "ATOM      6  CG  LYS A 319      18.003  26.056   6.986  1.00  5.15           C  \n",
      "ATOM      7  CD  LYS A 319      16.476  26.057   7.091  1.00  5.90           C  \n",
      "ATOM      8  CE  LYS A 319      16.014  27.341   7.784  1.00  6.51           C  \n",
      "ATOM      9  NZ  LYS A 319      16.388  28.518   6.952  1.00  7.33           N  \n",
      "ATOM     10  H1  LYS A 319      18.414  24.606  11.281  1.00  5.09           H  \n"
     ]
    }
   ],
   "source": [
    "!head -10 atoms_chain_A.txt"
   ]
  },
  {
   "cell_type": "code",
   "execution_count": 5,
   "id": "6e6ee179-2ef4-4bb6-bef8-917366744154",
   "metadata": {
    "tags": []
   },
   "outputs": [],
   "source": [
    "file_list = glob.glob('../data/*.pdb')"
   ]
  },
  {
   "cell_type": "code",
   "execution_count": 6,
   "id": "d90aa531-cd40-43e6-8ca3-be1c904cf195",
   "metadata": {
    "tags": []
   },
   "outputs": [
    {
     "data": {
      "text/plain": [
       "['../data/1FAG.pdb',\n",
       " '../data/1J6Z.pdb',\n",
       " '../data/1OLG.pdb',\n",
       " '../data/2ERK.pdb']"
      ]
     },
     "execution_count": 6,
     "metadata": {},
     "output_type": "execute_result"
    }
   ],
   "source": [
    "file_list"
   ]
  },
  {
   "cell_type": "code",
   "execution_count": 9,
   "id": "515b12b3-f6f0-4be0-8d2a-b181146583da",
   "metadata": {
    "tags": []
   },
   "outputs": [],
   "source": [
    "# Dictionary to hold sequences\n",
    "seqs = {}\n",
    "\n",
    "# Loop through all matching files\n",
    "for file_name in file_list:\n",
    "    # Extract PDB ID\n",
    "    pdb_id = file_name.split('/')[-1].split('.')[0]    \n",
    "    # Initialize sequence string, which we build as we go along\n",
    "    seq = ''\n",
    "    with open(file_name, 'r') as f:\n",
    "        for line in f:\n",
    "            if len(line) > 11 and line[:6] == 'SEQRES' and line[11] == 'A':\n",
    "                seq += line[19:].rstrip() + ' '\n",
    "    \n",
    "    # Build sequence with dash-joined three letter codes\n",
    "    seq = '-'.join(seq.split())\n",
    "    \n",
    "    # Store in the dictionary\n",
    "    seqs[pdb_id] = seq"
   ]
  },
  {
   "cell_type": "code",
   "execution_count": 10,
   "id": "c8d0c733-d96f-49b1-ad41-e48a5e4b1f8d",
   "metadata": {
    "tags": []
   },
   "outputs": [
    {
     "data": {
      "text/plain": [
       "dict_keys(['1FAG', '1J6Z', '1OLG', '2ERK'])"
      ]
     },
     "execution_count": 10,
     "metadata": {},
     "output_type": "execute_result"
    }
   ],
   "source": [
    "seqs.keys()"
   ]
  },
  {
   "cell_type": "code",
   "execution_count": 11,
   "id": "2d6884ef-5e2d-435a-a586-b59356e97b3e",
   "metadata": {
    "tags": []
   },
   "outputs": [
    {
     "data": {
      "text/plain": [
       "'ASP-GLU-ASP-GLU-THR-THR-ALA-LEU-VAL-CYS-ASP-ASN-GLY-SER-GLY-LEU-VAL-LYS-ALA-GLY-PHE-ALA-GLY-ASP-ASP-ALA-PRO-ARG-ALA-VAL-PHE-PRO-SER-ILE-VAL-GLY-ARG-PRO-ARG-HIS-GLN-GLY-VAL-MET-VAL-GLY-MET-GLY-GLN-LYS-ASP-SER-TYR-VAL-GLY-ASP-GLU-ALA-GLN-SER-LYS-ARG-GLY-ILE-LEU-THR-LEU-LYS-TYR-PRO-ILE-GLU-HIC-GLY-ILE-ILE-THR-ASN-TRP-ASP-ASP-MET-GLU-LYS-ILE-TRP-HIS-HIS-THR-PHE-TYR-ASN-GLU-LEU-ARG-VAL-ALA-PRO-GLU-GLU-HIS-PRO-THR-LEU-LEU-THR-GLU-ALA-PRO-LEU-ASN-PRO-LYS-ALA-ASN-ARG-GLU-LYS-MET-THR-GLN-ILE-MET-PHE-GLU-THR-PHE-ASN-VAL-PRO-ALA-MET-TYR-VAL-ALA-ILE-GLN-ALA-VAL-LEU-SER-LEU-TYR-ALA-SER-GLY-ARG-THR-THR-GLY-ILE-VAL-LEU-ASP-SER-GLY-ASP-GLY-VAL-THR-HIS-ASN-VAL-PRO-ILE-TYR-GLU-GLY-TYR-ALA-LEU-PRO-HIS-ALA-ILE-MET-ARG-LEU-ASP-LEU-ALA-GLY-ARG-ASP-LEU-THR-ASP-TYR-LEU-MET-LYS-ILE-LEU-THR-GLU-ARG-GLY-TYR-SER-PHE-VAL-THR-THR-ALA-GLU-ARG-GLU-ILE-VAL-ARG-ASP-ILE-LYS-GLU-LYS-LEU-CYS-TYR-VAL-ALA-LEU-ASP-PHE-GLU-ASN-GLU-MET-ALA-THR-ALA-ALA-SER-SER-SER-SER-LEU-GLU-LYS-SER-TYR-GLU-LEU-PRO-ASP-GLY-GLN-VAL-ILE-THR-ILE-GLY-ASN-GLU-ARG-PHE-ARG-CYS-PRO-GLU-THR-LEU-PHE-GLN-PRO-SER-PHE-ILE-GLY-MET-GLU-SER-ALA-GLY-ILE-HIS-GLU-THR-THR-TYR-ASN-SER-ILE-MET-LYS-CYS-ASP-ILE-ASP-ILE-ARG-LYS-ASP-LEU-TYR-ALA-ASN-ASN-VAL-MET-SER-GLY-GLY-THR-THR-MET-TYR-PRO-GLY-ILE-ALA-ASP-ARG-MET-GLN-LYS-GLU-ILE-THR-ALA-LEU-ALA-PRO-SER-THR-MET-LYS-ILE-LYS-ILE-ILE-ALA-PRO-PRO-GLU-ARG-LYS-TYR-SER-VAL-TRP-ILE-GLY-GLY-SER-ILE-LEU-ALA-SER-LEU-SER-THR-PHE-GLN-GLN-MET-TRP-ILE-THR-LYS-GLN-GLU-TYR-ASP-GLU-ALA-GLY-PRO-SER-ILE-VAL-HIS-ARG-LYS-CYS-PHE'"
      ]
     },
     "execution_count": 11,
     "metadata": {},
     "output_type": "execute_result"
    }
   ],
   "source": [
    "seqs['1J6Z']"
   ]
  },
  {
   "cell_type": "code",
   "execution_count": null,
   "id": "cee70609-a50f-465a-9de6-3672eea3eed2",
   "metadata": {},
   "outputs": [],
   "source": []
  }
 ],
 "metadata": {
  "kernelspec": {
   "display_name": "Python 3 (ipykernel)",
   "language": "python",
   "name": "python3"
  },
  "language_info": {
   "codemirror_mode": {
    "name": "ipython",
    "version": 3
   },
   "file_extension": ".py",
   "mimetype": "text/x-python",
   "name": "python",
   "nbconvert_exporter": "python",
   "pygments_lexer": "ipython3",
   "version": "3.10.10"
  }
 },
 "nbformat": 4,
 "nbformat_minor": 5
}
