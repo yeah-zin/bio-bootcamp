{
 "cells": [
  {
   "cell_type": "code",
   "execution_count": 10,
   "id": "093a2a7f-bf0a-40e7-bab5-3a2fb3583208",
   "metadata": {
    "tags": []
   },
   "outputs": [],
   "source": [
    "def concatenate_sequences(a, b, **kwargs):\n",
    "    \"\"\"Concatenate (combine) 2 or more sequences.\"\"\"\n",
    "    seq = a + b\n",
    "    \n",
    "    for key in kwargs:\n",
    "        seq += kwargs[key]\n",
    "        \n",
    "    return seq"
   ]
  },
  {
   "cell_type": "code",
   "execution_count": 11,
   "id": "c1f73ad7-bce1-4815-97db-d4acb1675286",
   "metadata": {
    "tags": []
   },
   "outputs": [
    {
     "data": {
      "text/plain": [
       "'TGACACCAGGGAGGGGGGGGGAAAATTTTT'"
      ]
     },
     "execution_count": 11,
     "metadata": {},
     "output_type": "execute_result"
    }
   ],
   "source": [
    "concatenate_sequences('TGACAC', 'CAGGGA', c='GGGGGGGGG', d='AAAATTTTT')"
   ]
  },
  {
   "cell_type": "code",
   "execution_count": 8,
   "id": "f4a7d772-ffce-4967-b6ff-706ed6ec2470",
   "metadata": {
    "tags": []
   },
   "outputs": [],
   "source": [
    "def concatenate_sequences2(a, b, *args):\n",
    "    \"\"\"Concatenate (combine) 2 or more sequences.\"\"\"\n",
    "    seq = a + b\n",
    "\n",
    "    for arg in args:\n",
    "        seq += arg\n",
    "        \n",
    "    return seq"
   ]
  },
  {
   "cell_type": "code",
   "execution_count": 9,
   "id": "79f5d811-b788-4583-9b4a-942c16269eb7",
   "metadata": {
    "tags": []
   },
   "outputs": [
    {
     "data": {
      "text/plain": [
       "'TGACACCAGGGAGGGGGGGGGAAAATTTTT'"
      ]
     },
     "execution_count": 9,
     "metadata": {},
     "output_type": "execute_result"
    }
   ],
   "source": [
    "concatenate_sequences2('TGACAC', 'CAGGGA', 'GGGGGGGGG', 'AAAATTTTT')"
   ]
  },
  {
   "cell_type": "code",
   "execution_count": 12,
   "id": "c9199f6d-82c1-4db5-baaa-5de935d55e01",
   "metadata": {
    "tags": []
   },
   "outputs": [],
   "source": [
    "my_dict = {\"a\": \"TGACAC\", \"b\": \"CAGGGA\", \"c\": \"GGGGGGGGG\", \"d\": \"AAAATTTTT\"}"
   ]
  },
  {
   "cell_type": "code",
   "execution_count": 13,
   "id": "a91fce47-a55a-45fc-b6fb-1e5d94b76de6",
   "metadata": {
    "tags": []
   },
   "outputs": [
    {
     "data": {
      "text/plain": [
       "'TGACACCAGGGAGGGGGGGGGAAAATTTTT'"
      ]
     },
     "execution_count": 13,
     "metadata": {},
     "output_type": "execute_result"
    }
   ],
   "source": [
    "concatenate_sequences(**my_dict)"
   ]
  },
  {
   "cell_type": "code",
   "execution_count": 14,
   "id": "883d42f1-e14c-42ab-a671-b218d17406b2",
   "metadata": {
    "tags": []
   },
   "outputs": [],
   "source": [
    "restriction_dict = {\"KpnI\": \"GGTACC\", \"HindII\": \"AAGCTT\", \"ecoRI\": \"GAATTC\"}"
   ]
  },
  {
   "cell_type": "code",
   "execution_count": 15,
   "id": "7b5d3c88-9d29-423f-90b2-ec29f65e8e62",
   "metadata": {
    "tags": []
   },
   "outputs": [
    {
     "data": {
      "text/plain": [
       "{'a': 'TGACAC',\n",
       " 'b': 'CAGGGA',\n",
       " 'c': 'GGGGGGGGG',\n",
       " 'd': 'AAAATTTTT',\n",
       " 'KpnI': 'GGTACC',\n",
       " 'HindII': 'AAGCTT',\n",
       " 'ecoRI': 'GAATTC',\n",
       " 'another_seq': 'AGTGTAGTG'}"
      ]
     },
     "execution_count": 15,
     "metadata": {},
     "output_type": "execute_result"
    }
   ],
   "source": [
    "# Merge dict\n",
    "\n",
    "dict(**my_dict, **restriction_dict, another_seq=\"AGTGTAGTG\")"
   ]
  },
  {
   "cell_type": "code",
   "execution_count": null,
   "id": "697313ef-163c-4d03-aaee-0d41a12731ed",
   "metadata": {},
   "outputs": [],
   "source": []
  }
 ],
 "metadata": {
  "kernelspec": {
   "display_name": "Python 3 (ipykernel)",
   "language": "python",
   "name": "python3"
  },
  "language_info": {
   "codemirror_mode": {
    "name": "ipython",
    "version": 3
   },
   "file_extension": ".py",
   "mimetype": "text/x-python",
   "name": "python",
   "nbconvert_exporter": "python",
   "pygments_lexer": "ipython3",
   "version": "3.10.10"
  }
 },
 "nbformat": 4,
 "nbformat_minor": 5
}
