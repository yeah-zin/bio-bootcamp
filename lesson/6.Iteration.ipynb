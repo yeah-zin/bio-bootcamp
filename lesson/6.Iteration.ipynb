{
 "cells": [
  {
   "cell_type": "code",
   "execution_count": 2,
   "id": "5bdabcb1-d797-463c-9d90-1960f368fdc8",
   "metadata": {},
   "outputs": [],
   "source": [
    "# The sequence we want to analyze\n",
    "seq = 'GACAGACUCCAUGCACGUGGGUAUCUGUC'"
   ]
  },
  {
   "cell_type": "code",
   "execution_count": 3,
   "id": "804cb06e-6874-4d80-8f87-50fe878bbddd",
   "metadata": {},
   "outputs": [
    {
     "data": {
      "text/plain": [
       "0.5517241379310345"
      ]
     },
     "execution_count": 3,
     "metadata": {},
     "output_type": "execute_result"
    }
   ],
   "source": [
    "(seq.count('G') + seq.count('C')) / len(seq)"
   ]
  },
  {
   "cell_type": "code",
   "execution_count": 6,
   "id": "1d503ac0-f48b-43b7-bf9e-9d58f61f3e37",
   "metadata": {},
   "outputs": [],
   "source": [
    "seq = 'GACAGACUCCAUGCACGUGGGUAUCUGUC'"
   ]
  },
  {
   "cell_type": "code",
   "execution_count": 8,
   "id": "3bb0022f-8691-400c-8f0e-0a325ccae0e6",
   "metadata": {},
   "outputs": [
    {
     "data": {
      "text/plain": [
       "'GUCUGUTUCCCUCGTGCUTGGUGTCTGTC'"
      ]
     },
     "execution_count": 8,
     "metadata": {},
     "output_type": "execute_result"
    }
   ],
   "source": [
    "seq[::-1].translate(str.maketrans('ATGCN', 'TACGN'))"
   ]
  },
  {
   "cell_type": "code",
   "execution_count": 15,
   "id": "20891660-3522-45b9-8271-261710555771",
   "metadata": {},
   "outputs": [],
   "source": [
    "def display_complements(seq):\n",
    "    rev = seq[::-1].translate(str.maketrans('ATGCN', 'TACGN'))\n",
    "\n",
    "    print(seq)\n",
    "    print('|'*len(seq), end='')\n",
    "    print()\n",
    "    print(rev[::-1], end='')"
   ]
  },
  {
   "cell_type": "code",
   "execution_count": 16,
   "id": "2d5b1ad9-fc90-4ae6-9f83-f40daca46aef",
   "metadata": {},
   "outputs": [
    {
     "name": "stdout",
     "output_type": "stream",
     "text": [
      "GACAGACUCCAUGCACGUGGGUAUCUGUC\n",
      "|||||||||||||||||||||||||||||\n",
      "CTGTCTGUGGTUCGTGCUCCCUTUGUCUG"
     ]
    }
   ],
   "source": [
    "display_complements(seq)"
   ]
  },
  {
   "cell_type": "code",
   "execution_count": 17,
   "id": "c1f692c7-91ba-43a2-b74e-742b37fa1047",
   "metadata": {},
   "outputs": [],
   "source": [
    "def complement_base(base, material='DNA'):\n",
    "    \"\"\"Returns the Watson-Crick complement of a base.\"\"\"\n",
    "    if base in 'Aa':\n",
    "        if material == 'DNA':\n",
    "            return 'T'\n",
    "        elif material == 'RNA':\n",
    "            return 'U'\n",
    "    elif base in 'TtUu':\n",
    "        return 'A'\n",
    "    elif base in 'Gg':\n",
    "        return 'C'\n",
    "    else:\n",
    "        return 'G'\n",
    "\n",
    "def reverse_complement(seq, material='DNA'):\n",
    "    \"\"\"Compute reverse complement of a sequence.\"\"\"\n",
    "    # Initialize reverse complement\n",
    "    rev_seq = ''\n",
    "\n",
    "    # Loop through and populate list with reverse complement\n",
    "    for base in reversed(seq):\n",
    "        rev_seq += complement_base(base, material=material)\n",
    "\n",
    "    return rev_seq"
   ]
  },
  {
   "cell_type": "code",
   "execution_count": 18,
   "id": "688f7a53-3020-454c-8785-c497a91e03c2",
   "metadata": {},
   "outputs": [
    {
     "data": {
      "text/plain": [
       "'TGCAACTGC'"
      ]
     },
     "execution_count": 18,
     "metadata": {},
     "output_type": "execute_result"
    }
   ],
   "source": [
    "reverse_complement('GCAGTTGCA')"
   ]
  },
  {
   "cell_type": "code",
   "execution_count": 19,
   "id": "d2e41a95-56a2-46a5-8ae3-297cafd957b8",
   "metadata": {},
   "outputs": [
    {
     "data": {
      "text/plain": [
       "'UGCAACUGC'"
      ]
     },
     "execution_count": 19,
     "metadata": {},
     "output_type": "execute_result"
    }
   ],
   "source": [
    "reverse_complement('GCAGTTGCA', material='RNA')"
   ]
  },
  {
   "cell_type": "code",
   "execution_count": null,
   "id": "ecfa1ead-a251-44ed-ba8d-25405e40a709",
   "metadata": {},
   "outputs": [],
   "source": []
  }
 ],
 "metadata": {
  "kernelspec": {
   "display_name": "Python 3 (ipykernel)",
   "language": "python",
   "name": "python3"
  },
  "language_info": {
   "codemirror_mode": {
    "name": "ipython",
    "version": 3
   },
   "file_extension": ".py",
   "mimetype": "text/x-python",
   "name": "python",
   "nbconvert_exporter": "python",
   "pygments_lexer": "ipython3",
   "version": "3.10.10"
  }
 },
 "nbformat": 4,
 "nbformat_minor": 5
}
