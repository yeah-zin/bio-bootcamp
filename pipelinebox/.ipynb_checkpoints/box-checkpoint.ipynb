{
 "cells": [
  {
   "cell_type": "code",
   "execution_count": null,
   "id": "35b6187d-a355-45aa-a25d-ba29fbb246b0",
   "metadata": {},
   "outputs": [],
   "source": [
    "def read_fasta(filename):\n",
    "    \"\"\"Read a sequence in from a FASTA file\"\"\"\n",
    "    dic = {}\n",
    "    with open(filename, \"r\") as f:\n",
    "        lines = f.read().split('>')[1:]\n",
    "        \n",
    "        for line in lines:\n",
    "            split_line = line.split('\\n')\n",
    "            descriptor = split_line[0]\n",
    "            seq = ''.join(split_line[1:])\n",
    "            dic[descriptor] = seq\n",
    "            \n",
    "    return dic"
   ]
  }
 ],
 "metadata": {
  "kernelspec": {
   "display_name": "Python 3 (ipykernel)",
   "language": "python",
   "name": "python3"
  },
  "language_info": {
   "codemirror_mode": {
    "name": "ipython",
    "version": 3
   },
   "file_extension": ".py",
   "mimetype": "text/x-python",
   "name": "python",
   "nbconvert_exporter": "python",
   "pygments_lexer": "ipython3",
   "version": "3.10.10"
  }
 },
 "nbformat": 4,
 "nbformat_minor": 5
}
