{
 "cells": [
  {
   "cell_type": "code",
   "execution_count": 1,
   "id": "8354c224-594f-4bda-99c8-0e17bdb69caf",
   "metadata": {},
   "outputs": [],
   "source": [
    "def reverse_complement(seq):\n",
    "    return seq[::-1].translate(str.maketrans('ATGCN', 'TACGN'))"
   ]
  },
  {
   "cell_type": "code",
   "execution_count": 2,
   "id": "e28965b6-776f-45d8-8dbd-cc0e7841b7ab",
   "metadata": {},
   "outputs": [
    {
     "data": {
      "text/plain": [
       "'GCAT'"
      ]
     },
     "execution_count": 2,
     "metadata": {},
     "output_type": "execute_result"
    }
   ],
   "source": [
    "reverse_complement('ATGC')"
   ]
  },
  {
   "cell_type": "code",
   "execution_count": 3,
   "id": "84c55d47-1f53-437e-bbda-40ea85c1367e",
   "metadata": {
    "tags": []
   },
   "outputs": [],
   "source": [
    "def longest_common_substring(str1, str2):\n",
    "    for k in range(len(str1), 1, -1):\n",
    "        for i in range(len(str1) -k +1):\n",
    "            if str1[i:i+k] in str2:\n",
    "                return str1[i:i+k]\n",
    "            else:\n",
    "                continue"
   ]
  },
  {
   "cell_type": "code",
   "execution_count": 6,
   "id": "bdeaeed0-8b03-4ad3-bfe9-6c147b772dee",
   "metadata": {
    "tags": []
   },
   "outputs": [
    {
     "data": {
      "text/plain": [
       "'ACGT'"
      ]
     },
     "execution_count": 6,
     "metadata": {},
     "output_type": "execute_result"
    }
   ],
   "source": [
    "longest_common_substring('ACGTGGAAAGCCA', 'GTACACACGTTTTGAGAGACAC')"
   ]
  },
  {
   "cell_type": "code",
   "execution_count": 41,
   "id": "8a57be16-3324-4d91-851c-87410b3bf91a",
   "metadata": {
    "tags": []
   },
   "outputs": [],
   "source": [
    "def parens_count(struc):\n",
    "    \"\"\"\n",
    "    Ensures there are equal number of open and closed parentheses in structure.\n",
    "    \"\"\"\n",
    "    return struc.count(\"(\") == struc.count(\")\")"
   ]
  },
  {
   "cell_type": "code",
   "execution_count": 43,
   "id": "be2b2142-92d2-4020-b61f-abf0b07d65a7",
   "metadata": {
    "tags": []
   },
   "outputs": [],
   "source": [
    "def dot_parens_to_bp(struc):\n",
    "    \"\"\"\n",
    "    convert a dot-parens structure to a list of base pairs.\n",
    "    Return False if the structure is invalid.\n",
    "    \"\"\"\n",
    "    if not parens_count(struc):\n",
    "        print(\"Error in input structure.\")\n",
    "        return False\n",
    "    \n",
    "    # Initialize list of open parens and list of base pair\n",
    "    open_parens = []\n",
    "    bps = []\n",
    "    \n",
    "    # Scan through string\n",
    "    for i,x in enumerate(struc):\n",
    "        if x == '(':\n",
    "            open_parens.append(i)\n",
    "        elif x == ')':\n",
    "            if len(open_parens) > 0:\n",
    "                bps.append((open_parens.pop(), i))\n",
    "            else:\n",
    "                print(\"Error in input structure\")\n",
    "                return False\n",
    "            \n",
    "    # Return the result a tuple\n",
    "    return tuple(sorted(bps))"
   ]
  },
  {
   "cell_type": "code",
   "execution_count": 44,
   "id": "b90fc6c8-db9b-4fb6-b31d-f40f2af7ed73",
   "metadata": {
    "tags": []
   },
   "outputs": [
    {
     "data": {
      "text/plain": [
       "((2, 10), (3, 9), (4, 8), (11, 25), (12, 23), (13, 22), (14, 21), (15, 20))"
      ]
     },
     "execution_count": 44,
     "metadata": {},
     "output_type": "execute_result"
    }
   ],
   "source": [
    "dot_parens_to_bp('..(((...)))(((((....)))).)..')"
   ]
  },
  {
   "cell_type": "code",
   "execution_count": 45,
   "id": "2a207fa9-e4a7-4da6-9f97-baeec23ca827",
   "metadata": {
    "tags": []
   },
   "outputs": [],
   "source": [
    "def hairpin_check(bps):\n",
    "    \"\"\"Check to make sure no hairpins are too short.\"\"\"\n",
    "    for bp in bps:\n",
    "        if bp[1] - bp[0] < 4:\n",
    "            print(\"A hairpin is too short.\")\n",
    "            return False\n",
    "    \n",
    "    # Everything check out\n",
    "    return True"
   ]
  },
  {
   "cell_type": "code",
   "execution_count": 46,
   "id": "c1eedb53-4ab9-417c-820a-58c69cc472e3",
   "metadata": {
    "tags": []
   },
   "outputs": [],
   "source": [
    "def rna_ss_validator(seq, sec_struc, wobble=True):\n",
    "    \"\"\"Validate and RNA structure\"\"\"\n",
    "    # Convert structure to base pairs\n",
    "    bps = dot_parens_to_bp(sec_struc)\n",
    "    \n",
    "    # If this falied, the structure was invalid\n",
    "    if not bps:\n",
    "        return False\n",
    "    \n",
    "    # Do the hairpin check\n",
    "    if not hairpin_check(bps):\n",
    "        return False\n",
    "    \n",
    "    # Possible base pairs\n",
    "    if wobble:\n",
    "        bps_check = ('gc', 'cg', 'au', 'ua', 'gu', 'ug')\n",
    "    else:\n",
    "        bps_check = ('gc', 'cg', 'au', 'ua')\n",
    "    \n",
    "    # Check complementarity\n",
    "    for bp in bps:\n",
    "        bp_str = (seq[bp[0]] + seq[bp[1]]).lower()\n",
    "        if bp_str not in bps_check:\n",
    "            print(\"Invalid base pair.\")\n",
    "            return False\n",
    "    \n",
    "    return True"
   ]
  },
  {
   "cell_type": "code",
   "execution_count": 47,
   "id": "35e8f9ac-d617-461a-802f-8b8a1e9c90d1",
   "metadata": {
    "tags": []
   },
   "outputs": [
    {
     "name": "stdout",
     "output_type": "stream",
     "text": [
      "Should be True:\n",
      "True\n",
      "True\n",
      "True\n",
      "True\n",
      "\n",
      "Should be False:\n",
      "Invalid base pair.\n",
      "False \n",
      "\n",
      "Invalid base pair.\n",
      "False \n",
      "\n",
      "Invalid base pair.\n",
      "False \n",
      "\n",
      "A hairpin is too short.\n",
      "False \n",
      "\n",
      "Invalid base pair.\n",
      "False\n"
     ]
    }
   ],
   "source": [
    "print('Should be True:')\n",
    "print(rna_ss_validator('GCAUCUAUGC', '(((....)))'))\n",
    "print(rna_ss_validator('GCAUCUAUGU', '(((....)))'))\n",
    "print(rna_ss_validator('GCAUCUAUGU', '(.(....).)'))\n",
    "print(rna_ss_validator('AUUGAUGCACGUGCAUCCCCAGCGGGUCCCGCGAGCUCACCCCCUUCCAAAAGCACCACGUGCCAGGCCUCGCCCCCGGAAGUAUACCUGUGAGCCAGA',\n",
    "                       '...(((((....)))))....((((...))))..((((((...(((((....((((...))))..(((...)))...))))).......))))))....'))\n",
    "\n",
    "print('\\nShould be False:')\n",
    "print(rna_ss_validator('GCAUCUACGC', '(((....)))'), '\\n')\n",
    "print(rna_ss_validator('GCAUCUAUGU', '(((....)))', wobble=False), '\\n')\n",
    "print(rna_ss_validator('GCAUCUAUGU', '(.(....)).'), '\\n')\n",
    "print(rna_ss_validator('GCCCUUGGCA', '(.((..))).'),'\\n')\n",
    "print(rna_ss_validator('AUUGAUGCACGUGCAUCCCCAGCGGGUCCCGCGAGCCCACCCCCUUCCAAAAGCACCACGUGCCAGGCCUCGCCCCCGGAAGUAUACCUGUGAGCCAGA',\n",
    "                       '...(((((....)))))....((((...))))..((((((...(((((....((((...))))..(((...)))...))))).......))))))....'))"
   ]
  },
  {
   "cell_type": "code",
   "execution_count": null,
   "id": "332860ac-9763-4dd6-b143-e295ca44fe7c",
   "metadata": {},
   "outputs": [],
   "source": []
  }
 ],
 "metadata": {
  "kernelspec": {
   "display_name": "Python 3 (ipykernel)",
   "language": "python",
   "name": "python3"
  },
  "language_info": {
   "codemirror_mode": {
    "name": "ipython",
    "version": 3
   },
   "file_extension": ".py",
   "mimetype": "text/x-python",
   "name": "python",
   "nbconvert_exporter": "python",
   "pygments_lexer": "ipython3",
   "version": "3.10.10"
  }
 },
 "nbformat": 4,
 "nbformat_minor": 5
}
