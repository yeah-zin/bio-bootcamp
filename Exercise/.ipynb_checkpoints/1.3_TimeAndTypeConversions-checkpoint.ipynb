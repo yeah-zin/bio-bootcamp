{
 "cells": [
  {
   "cell_type": "code",
   "execution_count": 1,
   "id": "f5ed301d-6321-4f6b-a723-af4ee61d9789",
   "metadata": {
    "tags": []
   },
   "outputs": [],
   "source": [
    "seconds_past_midnight = 63252"
   ]
  },
  {
   "cell_type": "code",
   "execution_count": 9,
   "id": "caf4436f-4eae-49c7-9967-a298a8355852",
   "metadata": {
    "tags": []
   },
   "outputs": [],
   "source": [
    "hours = seconds_past_midnight // 60**2"
   ]
  },
  {
   "cell_type": "code",
   "execution_count": 10,
   "id": "2fba047b-c262-4273-a845-167ee5f04162",
   "metadata": {
    "tags": []
   },
   "outputs": [],
   "source": [
    "minutes = (seconds_past_midnight % (60**2)) // 60"
   ]
  },
  {
   "cell_type": "code",
   "execution_count": 11,
   "id": "eed0fadc-13ec-4b81-ac98-3f64cb65264b",
   "metadata": {
    "tags": []
   },
   "outputs": [],
   "source": [
    "seconds = seconds_past_midnight % 60"
   ]
  },
  {
   "cell_type": "code",
   "execution_count": 12,
   "id": "0820504e-5196-4905-8fda-ff3a8b3eb7dc",
   "metadata": {
    "tags": []
   },
   "outputs": [],
   "source": [
    "time_str = ':'.join([str(hours), str(minutes), str(seconds)])"
   ]
  },
  {
   "cell_type": "code",
   "execution_count": 13,
   "id": "7ebe34bf-eaf0-40b8-b1cf-6f9b480861f6",
   "metadata": {
    "tags": []
   },
   "outputs": [
    {
     "name": "stdout",
     "output_type": "stream",
     "text": [
      "17:34:12\n"
     ]
    }
   ],
   "source": [
    "print(time_str)"
   ]
  },
  {
   "cell_type": "code",
   "execution_count": null,
   "id": "25f4aab9-1edf-46d2-9864-86ce1d893773",
   "metadata": {},
   "outputs": [],
   "source": []
  }
 ],
 "metadata": {
  "kernelspec": {
   "display_name": "Python 3 (ipykernel)",
   "language": "python",
   "name": "python3"
  },
  "language_info": {
   "codemirror_mode": {
    "name": "ipython",
    "version": 3
   },
   "file_extension": ".py",
   "mimetype": "text/x-python",
   "name": "python",
   "nbconvert_exporter": "python",
   "pygments_lexer": "ipython3",
   "version": "3.10.10"
  }
 },
 "nbformat": 4,
 "nbformat_minor": 5
}
