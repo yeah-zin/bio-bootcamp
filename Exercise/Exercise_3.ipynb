{
 "cells": [
  {
   "cell_type": "code",
   "execution_count": 10,
   "id": "8e10ae6f-d199-4891-9134-f18fc308e0eb",
   "metadata": {
    "tags": []
   },
   "outputs": [],
   "source": [
    "dic = {}\n",
    "with open('../data/salmonella_spi1_region.fna', 'r') as f:\n",
    "    file = f.read()\n",
    "    lines = file.split('>')\n",
    "    \n",
    "    for i in lines[1:]:\n",
    "        title = i.split('\\n')[0]\n",
    "        seq = ''.join(i.split('\\n')[1:])\n",
    "        dic[title] = seq"
   ]
  },
  {
   "cell_type": "code",
   "execution_count": 15,
   "id": "0793b90a-3099-415d-bea6-6cd1dba12fe9",
   "metadata": {
    "tags": []
   },
   "outputs": [],
   "source": [
    "def read_fna_file(file_name):\n",
    "    dic = {}\n",
    "    with open(file_name, 'r') as f:\n",
    "        lines = f.read().split('>')\n",
    "        \n",
    "        for i in lines[1:]:\n",
    "            title = i.split('\\n')[0]\n",
    "            seq = ''.join(i.split('\\n')[1:])\n",
    "            dic[title] = seq\n",
    "            \n",
    "    return dic"
   ]
  },
  {
   "cell_type": "code",
   "execution_count": 20,
   "id": "8441c5cd-4d0c-403b-9a78-4f8c66c2eef0",
   "metadata": {
    "tags": []
   },
   "outputs": [],
   "source": [
    "def restriction_sites(seq, recoq_seq):\n",
    "    recoq_sites = []\n",
    "    while True:\n",
    "        if seq.find(recoq_seq) != -1:\n",
    "            recoq_sites.append(seq.find(recoq_seq))\n",
    "            seq = seq[seq.find(recoq_seq)+len(recoq_seq)-1:]\n",
    "        else:\n",
    "            break\n",
    "    return recoq_sites"
   ]
  },
  {
   "cell_type": "code",
   "execution_count": 16,
   "id": "77b5f344-9a0f-4c82-af48-e36ae00f079f",
   "metadata": {
    "tags": []
   },
   "outputs": [],
   "source": [
    "e = read_fna_file('e.fna')"
   ]
  },
  {
   "cell_type": "code",
   "execution_count": 17,
   "id": "d9a61135-0f70-4806-8be9-31c24a65b148",
   "metadata": {
    "tags": []
   },
   "outputs": [
    {
     "data": {
      "text/plain": [
       "dict_keys(['Lambda_NEB'])"
      ]
     },
     "execution_count": 17,
     "metadata": {},
     "output_type": "execute_result"
    }
   ],
   "source": [
    "e.keys()"
   ]
  },
  {
   "cell_type": "code",
   "execution_count": 21,
   "id": "5b39d9d1-e05e-45ef-a7a4-6e5f03d60513",
   "metadata": {
    "tags": []
   },
   "outputs": [
    {
     "data": {
      "text/plain": [
       "[23129, 2022, 2317, 9411, 559, 120, 6552]"
      ]
     },
     "execution_count": 21,
     "metadata": {},
     "output_type": "execute_result"
    }
   ],
   "source": [
    "restriction_sites(e['Lambda_NEB'], 'AAGCTT')"
   ]
  },
  {
   "cell_type": "code",
   "execution_count": 22,
   "id": "8f7d9518-bca4-495b-bb14-a27e13d31a8a",
   "metadata": {
    "tags": []
   },
   "outputs": [
    {
     "data": {
      "text/plain": [
       "[21225, 4873, 5638, 7416, 5799]"
      ]
     },
     "execution_count": 22,
     "metadata": {},
     "output_type": "execute_result"
    }
   ],
   "source": [
    "restriction_sites(e['Lambda_NEB'], 'GAATTC')"
   ]
  },
  {
   "cell_type": "code",
   "execution_count": 23,
   "id": "f7fb038a-c464-4966-b8ce-3ae848480c9d",
   "metadata": {
    "tags": []
   },
   "outputs": [
    {
     "data": {
      "text/plain": [
       "[17052, 1498]"
      ]
     },
     "execution_count": 23,
     "metadata": {},
     "output_type": "execute_result"
    }
   ],
   "source": [
    "restriction_sites(e['Lambda_NEB'], 'GGTACC')"
   ]
  },
  {
   "cell_type": "code",
   "execution_count": 39,
   "id": "ac27f94a-5096-4278-9410-fcc0cfb572eb",
   "metadata": {},
   "outputs": [],
   "source": [
    "def read_fasta(filename):\n",
    "    \"\"\"Read a sequence in from a FASTA file containing a single sequence.\n",
    "\n",
    "    We assume that the first line of the file is the descriptor and all\n",
    "    subsequent lines are sequence.\n",
    "    \"\"\"\n",
    "    with open(filename, \"r\") as f:\n",
    "        # Read in descriptor\n",
    "        descriptor = f.readline().rstrip()\n",
    "\n",
    "        # Read in sequence, stripping the whitespace from each line\n",
    "        seq = \"\"\n",
    "        line = f.readline().rstrip()\n",
    "        while line != \"\":\n",
    "            seq += line\n",
    "            line = f.readline().rstrip()\n",
    "\n",
    "    return descriptor, seq"
   ]
  },
  {
   "cell_type": "code",
   "execution_count": 40,
   "id": "086fa2c8-bd01-4256-8f62-2d7959ab1d7b",
   "metadata": {
    "tags": []
   },
   "outputs": [
    {
     "data": {
      "text/plain": [
       "'GGGCGGCGACCTCGCGGGTTTTCGCTATTTATGAAAATTTTCCGGTTTAAGGCGTTTCCGTTCTTCTTCGTCATAACTTAATGTTTTTATTTAAAATACCCTCTGAAAAGAAAGGAAACGACAGGTGCTGAAAGCGAGGCTTTTTGGCCTCTGTCGTTTCCTTTCTCTGTTTTTGTCCGTGGAATGAACAATGGAAGTCAACAAAAAGCAGCTGGCTGACATTTTCGGTGCGAGTATCCGTACCATTCAGAACTGGCAGGAACAGGGAATGCCCGTTCTGCGAGGCGGTGGCAAGGGTAATGAGGTGCTTTATGACTCTGCCGCCGTCATAAAATGGTATGCCGAAAGGGATGCTGAAATTGAGAACGAAAAGCTGCGCCGGGAGGTTGAAGAACTGCGGCAGGCCAGCGAGGCAGATCTCCAGCCAGGAACTATTGAGTACGAACGCCATCGACTTACGCGTGCGCAGGCCGACGCACAGGAACTGAAGAATGCCAGAG'"
      ]
     },
     "execution_count": 40,
     "metadata": {},
     "output_type": "execute_result"
    }
   ],
   "source": [
    "descriptor_lambda, seq_lambda = read_fasta(\"e.fna\")\n",
    "\n",
    "# Take a look at the first 500 bases to make sure we got it right.\n",
    "seq_lambda[:500]"
   ]
  },
  {
   "cell_type": "code",
   "execution_count": 42,
   "id": "630ab1a1-eebf-464d-b72e-78a2e6e6f2c3",
   "metadata": {
    "tags": []
   },
   "outputs": [
    {
     "data": {
      "text/plain": [
       "'>Lambda_NEB'"
      ]
     },
     "execution_count": 42,
     "metadata": {},
     "output_type": "execute_result"
    }
   ],
   "source": [
    "descriptor_lambda"
   ]
  },
  {
   "cell_type": "code",
   "execution_count": 47,
   "id": "0ec9ca0d-4ec5-4d34-b72f-5dc88d1ec112",
   "metadata": {
    "tags": []
   },
   "outputs": [],
   "source": [
    "def read_fasta(filename):\n",
    "    \"\"\"Read a sequence in from a FASTA file\"\"\"\n",
    "    dic = {}\n",
    "    with open(filename, \"r\") as f:\n",
    "        lines = f.read().split('>')[1:]\n",
    "        \n",
    "        for line in lines:\n",
    "            split_line = line.split('\\n')\n",
    "            descriptor = split_line[0]\n",
    "            seq = ''.join(split_line[1:])\n",
    "            dic[descriptor] = seq\n",
    "            \n",
    "    return dic"
   ]
  },
  {
   "cell_type": "code",
   "execution_count": 48,
   "id": "95505d90-f7a3-4153-8a34-b4ff6c9a11c8",
   "metadata": {
    "tags": []
   },
   "outputs": [],
   "source": [
    "dic_fna = read_fasta('e.fna')"
   ]
  },
  {
   "cell_type": "code",
   "execution_count": 50,
   "id": "7984aa3e-58ea-4f8d-8b1a-0a43749ceed2",
   "metadata": {
    "tags": []
   },
   "outputs": [],
   "source": [
    "import re"
   ]
  },
  {
   "cell_type": "code",
   "execution_count": 54,
   "id": "c12eb25b-0b23-40f6-b239-62d744d43128",
   "metadata": {
    "tags": []
   },
   "outputs": [
    {
     "data": {
      "text/plain": [
       "[<re.Match object; span=(17052, 17058), match='GGTACC'>,\n",
       " <re.Match object; span=(18555, 18561), match='GGTACC'>]"
      ]
     },
     "execution_count": 54,
     "metadata": {},
     "output_type": "execute_result"
    }
   ],
   "source": [
    "list(re.finditer('GGTACC', dic_fna['Lambda_NEB']))"
   ]
  },
  {
   "cell_type": "code",
   "execution_count": 55,
   "id": "3ad4f369-7bf1-478a-9100-8faab8d55dd2",
   "metadata": {
    "tags": []
   },
   "outputs": [
    {
     "data": {
      "text/plain": [
       "'GGTACC'"
      ]
     },
     "execution_count": 55,
     "metadata": {},
     "output_type": "execute_result"
    }
   ],
   "source": [
    "dic_fna['Lambda_NEB'][18555:18561]"
   ]
  },
  {
   "cell_type": "code",
   "execution_count": 57,
   "id": "ff8df06b-3dea-4437-9359-813b8436f9e6",
   "metadata": {
    "tags": []
   },
   "outputs": [],
   "source": [
    "def restriction_sites(seq, recog_seq):\n",
    "    \"\"\"Find the indices of all restriction sites in a sequence.\"\"\"\n",
    "    sites = []\n",
    "    for i in re.finditer(recog_seq, seq):\n",
    "        sites.append(i.start())\n",
    "        \n",
    "    return sites"
   ]
  },
  {
   "cell_type": "code",
   "execution_count": 59,
   "id": "3ec235c6-17e0-4530-9c35-cc4e188aed80",
   "metadata": {
    "tags": []
   },
   "outputs": [
    {
     "data": {
      "text/plain": [
       "[17052, 18555]"
      ]
     },
     "execution_count": 59,
     "metadata": {},
     "output_type": "execute_result"
    }
   ],
   "source": [
    "restriction_sites(dic_fna['Lambda_NEB'], 'GGTACC')"
   ]
  },
  {
   "cell_type": "code",
   "execution_count": 62,
   "id": "e6976a66-43c3-4a13-9e05-54e4bc0dfb8e",
   "metadata": {
    "tags": []
   },
   "outputs": [],
   "source": [
    "def restriction_sites(seq, recog_seq):\n",
    "    \"\"\"Find the indices of all restriction sites in a sequence.\"\"\"\n",
    "    sites = []\n",
    "    for i in range(len(seq) - len(recog_seq)):\n",
    "        if seq[i:i+len(recog_seq)] == recog_seq:\n",
    "            sites.append(i)\n",
    "        \n",
    "    return sites"
   ]
  },
  {
   "cell_type": "code",
   "execution_count": 63,
   "id": "f8772273-2c5c-4e19-9af2-f655de1fec21",
   "metadata": {
    "tags": []
   },
   "outputs": [
    {
     "data": {
      "text/plain": [
       "[17052, 18555]"
      ]
     },
     "execution_count": 63,
     "metadata": {},
     "output_type": "execute_result"
    }
   ],
   "source": [
    "restriction_sites(dic_fna['Lambda_NEB'], 'GGTACC')"
   ]
  },
  {
   "cell_type": "code",
   "execution_count": null,
   "id": "f88dbdea-a79b-4d18-8e57-3d10ee7131c7",
   "metadata": {},
   "outputs": [],
   "source": []
  }
 ],
 "metadata": {
  "kernelspec": {
   "display_name": "Python 3 (ipykernel)",
   "language": "python",
   "name": "python3"
  },
  "language_info": {
   "codemirror_mode": {
    "name": "ipython",
    "version": 3
   },
   "file_extension": ".py",
   "mimetype": "text/x-python",
   "name": "python",
   "nbconvert_exporter": "python",
   "pygments_lexer": "ipython3",
   "version": "3.10.10"
  }
 },
 "nbformat": 4,
 "nbformat_minor": 5
}
